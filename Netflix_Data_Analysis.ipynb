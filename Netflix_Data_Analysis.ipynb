{
 "cells": [
  {
   "cell_type": "markdown",
   "id": "5bb7af2c-be11-4852-b875-8b7ddc3b5b62",
   "metadata": {},
   "source": [
    "<h1 align=\"center\">Netflix Data Analysis Project</h1>\n",
    "    \n",
    "<span style=\"font-size: 15px;\">This project analyzes the Netflix Movies & TV Shows Dataset to extract insights about content trends, genres, ratings, and countries of production. The goal is not only to clean and explore the dataset but also to translate numbers into meaningful business insights that highlight Netflix’s content strategy.</span>\n",
    "\n",
    "<span style=\"font-size: 15px;\">This notebook aims to analyze the data and deliver insights based on the findings.</span>\n",
    "\n",
    "- Data Import\n",
    "- Basic Data Exploration\n",
    "- Data Cleaning\n",
    "- Data Transformation\n",
    "- Descriptive Analysis\n",
    "- Deep-Dive Analysis\n",
    "- Business Insights Summary"
   ]
  },
  {
   "cell_type": "markdown",
   "id": "3e0e5823-d030-4b4d-88cf-012a0d2f107b",
   "metadata": {},
   "source": [
    "## 1) Import required libraries."
   ]
  },
  {
   "cell_type": "code",
   "execution_count": 8,
   "id": "cbb7b788-a3fa-4614-b7ff-9b9bc41fd4f2",
   "metadata": {},
   "outputs": [],
   "source": [
    "import pandas as pd\n",
    "import numpy as np\n",
    "import matplotlib.pyplot as plt\n",
    "import seaborn as sns"
   ]
  },
  {
   "cell_type": "markdown",
   "id": "1b551c72-fc3e-4f83-8fd3-96f1f0ffb59a",
   "metadata": {},
   "source": [
    "## 2) Import data"
   ]
  },
  {
   "cell_type": "code",
   "execution_count": 9,
   "id": "fa5df642-19d8-46ad-bbf8-236030a39e8d",
   "metadata": {},
   "outputs": [],
   "source": [
    "df = pd.read_csv(\"netflix_titles.csv\")"
   ]
  },
  {
   "cell_type": "markdown",
   "id": "8939992c-511c-4ecb-9a43-fb8e125cc1f7",
   "metadata": {},
   "source": [
    "## 3) Basic Exploration"
   ]
  },
  {
   "cell_type": "markdown",
   "id": "0813b762-f392-441f-aa64-dd77be46a2c1",
   "metadata": {},
   "source": [
    "#### Goal: Geting familiar with the dataset"
   ]
  },
  {
   "cell_type": "code",
   "execution_count": 10,
   "id": "0b4d4393-27c3-4ab0-b417-c92b50282c84",
   "metadata": {},
   "outputs": [
    {
     "data": {
      "text/html": [
       "<div>\n",
       "<style scoped>\n",
       "    .dataframe tbody tr th:only-of-type {\n",
       "        vertical-align: middle;\n",
       "    }\n",
       "\n",
       "    .dataframe tbody tr th {\n",
       "        vertical-align: top;\n",
       "    }\n",
       "\n",
       "    .dataframe thead th {\n",
       "        text-align: right;\n",
       "    }\n",
       "</style>\n",
       "<table border=\"1\" class=\"dataframe\">\n",
       "  <thead>\n",
       "    <tr style=\"text-align: right;\">\n",
       "      <th></th>\n",
       "      <th>show_id</th>\n",
       "      <th>type</th>\n",
       "      <th>title</th>\n",
       "      <th>director</th>\n",
       "      <th>cast</th>\n",
       "      <th>country</th>\n",
       "      <th>date_added</th>\n",
       "      <th>release_year</th>\n",
       "      <th>rating</th>\n",
       "      <th>duration</th>\n",
       "      <th>listed_in</th>\n",
       "      <th>description</th>\n",
       "    </tr>\n",
       "  </thead>\n",
       "  <tbody>\n",
       "    <tr>\n",
       "      <th>0</th>\n",
       "      <td>s1</td>\n",
       "      <td>Movie</td>\n",
       "      <td>Dick Johnson Is Dead</td>\n",
       "      <td>Kirsten Johnson</td>\n",
       "      <td>NaN</td>\n",
       "      <td>United States</td>\n",
       "      <td>September 25, 2021</td>\n",
       "      <td>2020</td>\n",
       "      <td>PG-13</td>\n",
       "      <td>90 min</td>\n",
       "      <td>Documentaries</td>\n",
       "      <td>As her father nears the end of his life, filmm...</td>\n",
       "    </tr>\n",
       "    <tr>\n",
       "      <th>1</th>\n",
       "      <td>s2</td>\n",
       "      <td>TV Show</td>\n",
       "      <td>Blood &amp; Water</td>\n",
       "      <td>NaN</td>\n",
       "      <td>Ama Qamata, Khosi Ngema, Gail Mabalane, Thaban...</td>\n",
       "      <td>South Africa</td>\n",
       "      <td>September 24, 2021</td>\n",
       "      <td>2021</td>\n",
       "      <td>TV-MA</td>\n",
       "      <td>2 Seasons</td>\n",
       "      <td>International TV Shows, TV Dramas, TV Mysteries</td>\n",
       "      <td>After crossing paths at a party, a Cape Town t...</td>\n",
       "    </tr>\n",
       "    <tr>\n",
       "      <th>2</th>\n",
       "      <td>s3</td>\n",
       "      <td>TV Show</td>\n",
       "      <td>Ganglands</td>\n",
       "      <td>Julien Leclercq</td>\n",
       "      <td>Sami Bouajila, Tracy Gotoas, Samuel Jouy, Nabi...</td>\n",
       "      <td>NaN</td>\n",
       "      <td>September 24, 2021</td>\n",
       "      <td>2021</td>\n",
       "      <td>TV-MA</td>\n",
       "      <td>1 Season</td>\n",
       "      <td>Crime TV Shows, International TV Shows, TV Act...</td>\n",
       "      <td>To protect his family from a powerful drug lor...</td>\n",
       "    </tr>\n",
       "    <tr>\n",
       "      <th>3</th>\n",
       "      <td>s4</td>\n",
       "      <td>TV Show</td>\n",
       "      <td>Jailbirds New Orleans</td>\n",
       "      <td>NaN</td>\n",
       "      <td>NaN</td>\n",
       "      <td>NaN</td>\n",
       "      <td>September 24, 2021</td>\n",
       "      <td>2021</td>\n",
       "      <td>TV-MA</td>\n",
       "      <td>1 Season</td>\n",
       "      <td>Docuseries, Reality TV</td>\n",
       "      <td>Feuds, flirtations and toilet talk go down amo...</td>\n",
       "    </tr>\n",
       "  </tbody>\n",
       "</table>\n",
       "</div>"
      ],
      "text/plain": [
       "  show_id     type                  title         director  \\\n",
       "0      s1    Movie   Dick Johnson Is Dead  Kirsten Johnson   \n",
       "1      s2  TV Show          Blood & Water              NaN   \n",
       "2      s3  TV Show              Ganglands  Julien Leclercq   \n",
       "3      s4  TV Show  Jailbirds New Orleans              NaN   \n",
       "\n",
       "                                                cast        country  \\\n",
       "0                                                NaN  United States   \n",
       "1  Ama Qamata, Khosi Ngema, Gail Mabalane, Thaban...   South Africa   \n",
       "2  Sami Bouajila, Tracy Gotoas, Samuel Jouy, Nabi...            NaN   \n",
       "3                                                NaN            NaN   \n",
       "\n",
       "           date_added  release_year rating   duration  \\\n",
       "0  September 25, 2021          2020  PG-13     90 min   \n",
       "1  September 24, 2021          2021  TV-MA  2 Seasons   \n",
       "2  September 24, 2021          2021  TV-MA   1 Season   \n",
       "3  September 24, 2021          2021  TV-MA   1 Season   \n",
       "\n",
       "                                           listed_in  \\\n",
       "0                                      Documentaries   \n",
       "1    International TV Shows, TV Dramas, TV Mysteries   \n",
       "2  Crime TV Shows, International TV Shows, TV Act...   \n",
       "3                             Docuseries, Reality TV   \n",
       "\n",
       "                                         description  \n",
       "0  As her father nears the end of his life, filmm...  \n",
       "1  After crossing paths at a party, a Cape Town t...  \n",
       "2  To protect his family from a powerful drug lor...  \n",
       "3  Feuds, flirtations and toilet talk go down amo...  "
      ]
     },
     "execution_count": 10,
     "metadata": {},
     "output_type": "execute_result"
    }
   ],
   "source": [
    "df.head(4)"
   ]
  },
  {
   "cell_type": "code",
   "execution_count": 11,
   "id": "5b72c328-4ea9-4223-bcc3-2cf321aa3590",
   "metadata": {},
   "outputs": [
    {
     "data": {
      "text/plain": [
       "(8807, 12)"
      ]
     },
     "execution_count": 11,
     "metadata": {},
     "output_type": "execute_result"
    }
   ],
   "source": [
    "df.shape"
   ]
  },
  {
   "cell_type": "code",
   "execution_count": 12,
   "id": "8b08a89c-9f0a-436e-b4f9-ede887f9c7a3",
   "metadata": {},
   "outputs": [
    {
     "name": "stdout",
     "output_type": "stream",
     "text": [
      "<class 'pandas.core.frame.DataFrame'>\n",
      "RangeIndex: 8807 entries, 0 to 8806\n",
      "Data columns (total 12 columns):\n",
      " #   Column        Non-Null Count  Dtype \n",
      "---  ------        --------------  ----- \n",
      " 0   show_id       8807 non-null   object\n",
      " 1   type          8807 non-null   object\n",
      " 2   title         8807 non-null   object\n",
      " 3   director      6173 non-null   object\n",
      " 4   cast          7982 non-null   object\n",
      " 5   country       7976 non-null   object\n",
      " 6   date_added    8797 non-null   object\n",
      " 7   release_year  8807 non-null   int64 \n",
      " 8   rating        8803 non-null   object\n",
      " 9   duration      8804 non-null   object\n",
      " 10  listed_in     8807 non-null   object\n",
      " 11  description   8807 non-null   object\n",
      "dtypes: int64(1), object(11)\n",
      "memory usage: 825.8+ KB\n"
     ]
    }
   ],
   "source": [
    "df.info()"
   ]
  },
  {
   "cell_type": "code",
   "execution_count": 13,
   "id": "3a2ddd2e-1dce-4d83-a7dd-69ccd64f780b",
   "metadata": {},
   "outputs": [
    {
     "data": {
      "text/plain": [
       "show_id            0\n",
       "type               0\n",
       "title              0\n",
       "director        2634\n",
       "cast             825\n",
       "country          831\n",
       "date_added        10\n",
       "release_year       0\n",
       "rating             4\n",
       "duration           3\n",
       "listed_in          0\n",
       "description        0\n",
       "dtype: int64"
      ]
     },
     "execution_count": 13,
     "metadata": {},
     "output_type": "execute_result"
    }
   ],
   "source": [
    "df.isnull().sum()"
   ]
  },
  {
   "cell_type": "code",
   "execution_count": 14,
   "id": "d20f6e14-6829-45d4-8548-f7f949644511",
   "metadata": {},
   "outputs": [
    {
     "data": {
      "text/plain": [
       "np.int64(0)"
      ]
     },
     "execution_count": 14,
     "metadata": {},
     "output_type": "execute_result"
    }
   ],
   "source": [
    "df.duplicated().sum()"
   ]
  },
  {
   "cell_type": "markdown",
   "id": "a7002724-b273-4067-87d1-474fc1ca0ae4",
   "metadata": {},
   "source": [
    "## 4) Data Cleaning"
   ]
  },
  {
   "cell_type": "markdown",
   "id": "435ee6e4-4821-43d1-bac1-f498ca2f810b",
   "metadata": {},
   "source": [
    "#### Goal: Prepare for analysis"
   ]
  },
  {
   "cell_type": "markdown",
   "id": "e17babe2-b75d-4602-bdf0-b26fb67956fa",
   "metadata": {},
   "source": [
    "### null values in `country` fill with \"Unknown\" instead of dropping."
   ]
  },
  {
   "cell_type": "code",
   "execution_count": 16,
   "id": "8babb0b8-ed9c-4a04-9bd2-95ee6ed352f7",
   "metadata": {},
   "outputs": [],
   "source": [
    "df[\"country\"].fillna(\"Unknown\", inplace=True)"
   ]
  },
  {
   "cell_type": "markdown",
   "id": "935fb7f9-ed94-4b41-b4c9-dcaac9e704d7",
   "metadata": {},
   "source": [
    "### null values in `director` fill with \"Unknown\" instead of dropping. "
   ]
  },
  {
   "cell_type": "code",
   "execution_count": 18,
   "id": "adcf8b91-8de8-4679-8d9f-d2e4db70da24",
   "metadata": {},
   "outputs": [],
   "source": [
    "df[\"director\"].fillna(\"Unknown\", inplace= True)"
   ]
  },
  {
   "cell_type": "markdown",
   "id": "fa193264-c5f3-4330-a2fc-af279b57e761",
   "metadata": {},
   "source": [
    "### null values in `cast` fill with Not Available"
   ]
  },
  {
   "cell_type": "code",
   "execution_count": 22,
   "id": "0dc596f9-ae24-4733-96c3-4c8575ff7773",
   "metadata": {},
   "outputs": [],
   "source": [
    "df[\"cast\"].fillna(\"Not Available\", inplace=True)\n"
   ]
  },
  {
   "cell_type": "markdown",
   "id": "73efddc5-54c0-4ac2-9f20-0dd8b2178dda",
   "metadata": {},
   "source": [
    "### null values in `date_added` fill with \"Unknown\" instead of dropping. "
   ]
  },
  {
   "cell_type": "code",
   "execution_count": 24,
   "id": "6fbb0a77-666c-422c-bcef-8273b3b73591",
   "metadata": {},
   "outputs": [],
   "source": [
    "df[\"date_added\"].fillna(\"Unknown\", inplace=True)\n"
   ]
  },
  {
   "cell_type": "markdown",
   "id": "ac2045bb-337a-452c-8cfd-6aa5bbb8aaa7",
   "metadata": {},
   "source": [
    "### null values in `rating` fill with \"Not Rated\" instead of dropping. "
   ]
  },
  {
   "cell_type": "code",
   "execution_count": 26,
   "id": "30fce63d-69d0-4d2f-96d4-85650443f2e2",
   "metadata": {},
   "outputs": [],
   "source": [
    "df[\"rating\"].fillna(\"Not Rated\", inplace=True)\n"
   ]
  },
  {
   "cell_type": "markdown",
   "id": "9eaddcd7-4513-4db8-b822-54ac7ee12fc0",
   "metadata": {},
   "source": [
    "### check null in `duration` column"
   ]
  },
  {
   "cell_type": "code",
   "execution_count": 28,
   "id": "7ad0c61f-3a99-4a7a-92bd-2d3c4adff12d",
   "metadata": {},
   "outputs": [
    {
     "data": {
      "text/plain": [
       "np.int64(3)"
      ]
     },
     "execution_count": 28,
     "metadata": {},
     "output_type": "execute_result"
    }
   ],
   "source": [
    "df[\"duration\"].isnull().sum()\n"
   ]
  },
  {
   "cell_type": "markdown",
   "id": "3f791885-2f46-43c1-890a-bc0dfa90a778",
   "metadata": {},
   "source": [
    "### drop null value rows in `duration` column"
   ]
  },
  {
   "cell_type": "code",
   "execution_count": 29,
   "id": "160e222a-99df-41cc-8814-5ac7911bb3a3",
   "metadata": {},
   "outputs": [],
   "source": [
    "df = df.dropna(subset=[\"duration\"])\n"
   ]
  },
  {
   "cell_type": "markdown",
   "id": "0e3ac89e-2db5-424e-8c98-ebccaee53fbb",
   "metadata": {},
   "source": [
    "### drop min values in `rating` column"
   ]
  },
  {
   "cell_type": "code",
   "execution_count": 30,
   "id": "9e1d238f-3f85-4060-b08a-0c1ee83852c4",
   "metadata": {},
   "outputs": [],
   "source": [
    "df = df[~df[\"rating\"].str.contains(\"min\", na=False)]\n"
   ]
  },
  {
   "cell_type": "markdown",
   "id": "4369ce9c-40a0-45d3-8f1e-59d10b799102",
   "metadata": {},
   "source": [
    "### drop invalid values in `cast` column"
   ]
  },
  {
   "cell_type": "code",
   "execution_count": 31,
   "id": "82c156cb-3380-4de3-94b4-3260d6d4bec3",
   "metadata": {},
   "outputs": [],
   "source": [
    "df = df[~(df[\"cast\"].str.contains(\"50 Cent\", na=False) & \n",
    "          df[\"cast\"].str.contains(\"4Minute\", na=False))]"
   ]
  },
  {
   "cell_type": "markdown",
   "id": "00cf5513-ee0b-4868-9653-baa766596725",
   "metadata": {},
   "source": [
    "### removing invalid values in `title` column"
   ]
  },
  {
   "cell_type": "code",
   "execution_count": 32,
   "id": "8ce6cc7b-4775-45b3-a3bf-0bb8841c4b49",
   "metadata": {},
   "outputs": [],
   "source": [
    "# Remove rows where title is only digits, date-like, or time-like\n",
    "df = df[~df[\"title\"].str.match(r\"^\\d{4}$\", na=False)]      # only years\n",
    "df = df[~df[\"title\"].str.match(r\"^\\d+[%]$\", na=False)]     # percentages\n",
    "df = df[~df[\"title\"].str.match(r\"^\\d+:\\d+$\", na=False)]    # time like 23:59\n",
    "df = df[~df[\"title\"].str.match(r\"^\\d+$\", na=False)]        # pure numbers\n",
    "df = df[~df[\"title\"].str.match(r\"^[A-Za-z]{3}-\\d+$\", na=False)] # like Feb-09"
   ]
  },
  {
   "cell_type": "markdown",
   "id": "8422da49-3c4b-49c8-9016-bae841797d40",
   "metadata": {},
   "source": [
    "### check nulls"
   ]
  },
  {
   "cell_type": "code",
   "execution_count": 33,
   "id": "a0f59e69-3a10-4364-83ca-670cea693f82",
   "metadata": {},
   "outputs": [
    {
     "data": {
      "text/plain": [
       "show_id         0\n",
       "type            0\n",
       "title           0\n",
       "director        0\n",
       "cast            0\n",
       "country         0\n",
       "date_added      0\n",
       "release_year    0\n",
       "rating          0\n",
       "duration        0\n",
       "listed_in       0\n",
       "description     0\n",
       "dtype: int64"
      ]
     },
     "execution_count": 33,
     "metadata": {},
     "output_type": "execute_result"
    }
   ],
   "source": [
    "df.isnull().sum()"
   ]
  },
  {
   "cell_type": "code",
   "execution_count": 34,
   "id": "96e78fd3-8e49-4d91-86a1-1ff8c559b0b3",
   "metadata": {},
   "outputs": [
    {
     "name": "stdout",
     "output_type": "stream",
     "text": [
      "<class 'pandas.core.frame.DataFrame'>\n",
      "Index: 8785 entries, 0 to 8806\n",
      "Data columns (total 12 columns):\n",
      " #   Column        Non-Null Count  Dtype \n",
      "---  ------        --------------  ----- \n",
      " 0   show_id       8785 non-null   object\n",
      " 1   type          8785 non-null   object\n",
      " 2   title         8785 non-null   object\n",
      " 3   director      8785 non-null   object\n",
      " 4   cast          8785 non-null   object\n",
      " 5   country       8785 non-null   object\n",
      " 6   date_added    8785 non-null   object\n",
      " 7   release_year  8785 non-null   int64 \n",
      " 8   rating        8785 non-null   object\n",
      " 9   duration      8785 non-null   object\n",
      " 10  listed_in     8785 non-null   object\n",
      " 11  description   8785 non-null   object\n",
      "dtypes: int64(1), object(11)\n",
      "memory usage: 892.2+ KB\n"
     ]
    }
   ],
   "source": [
    "df.info()"
   ]
  },
  {
   "cell_type": "markdown",
   "id": "ce86c8fd-6e69-4b1c-999a-fd2dba624039",
   "metadata": {},
   "source": [
    "#### Converts the `date_added` column to datetime format in the df dataframe."
   ]
  },
  {
   "cell_type": "code",
   "execution_count": 35,
   "id": "92fae9c2-8632-4ed3-a1e6-12d2f5c66758",
   "metadata": {},
   "outputs": [],
   "source": [
    "df[\"date_added\"] = pd.to_datetime(df[\"date_added\"], errors=\"coerce\")\n"
   ]
  },
  {
   "cell_type": "code",
   "execution_count": 36,
   "id": "76cdccde-aef2-4335-b2a6-c48f66ed069b",
   "metadata": {},
   "outputs": [
    {
     "name": "stdout",
     "output_type": "stream",
     "text": [
      "<class 'pandas.core.frame.DataFrame'>\n",
      "Index: 8785 entries, 0 to 8806\n",
      "Data columns (total 12 columns):\n",
      " #   Column        Non-Null Count  Dtype         \n",
      "---  ------        --------------  -----         \n",
      " 0   show_id       8785 non-null   object        \n",
      " 1   type          8785 non-null   object        \n",
      " 2   title         8785 non-null   object        \n",
      " 3   director      8785 non-null   object        \n",
      " 4   cast          8785 non-null   object        \n",
      " 5   country       8785 non-null   object        \n",
      " 6   date_added    8687 non-null   datetime64[ns]\n",
      " 7   release_year  8785 non-null   int64         \n",
      " 8   rating        8785 non-null   object        \n",
      " 9   duration      8785 non-null   object        \n",
      " 10  listed_in     8785 non-null   object        \n",
      " 11  description   8785 non-null   object        \n",
      "dtypes: datetime64[ns](1), int64(1), object(10)\n",
      "memory usage: 892.2+ KB\n"
     ]
    }
   ],
   "source": [
    "df.info()"
   ]
  },
  {
   "cell_type": "markdown",
   "id": "50f61513-ac7f-4a9c-ab5c-7fb8e2067e1e",
   "metadata": {},
   "source": [
    "### create new columns `year_added` and `Month_added` from `date_added`"
   ]
  },
  {
   "cell_type": "code",
   "execution_count": 37,
   "id": "6f4b978b-99b1-4cea-b08d-421c46ccbd43",
   "metadata": {},
   "outputs": [],
   "source": [
    "df[\"year_added\"] = df[\"date_added\"].dt.year\n"
   ]
  },
  {
   "cell_type": "code",
   "execution_count": 38,
   "id": "ba4ffa34-8d4b-447d-bb2d-79db0c6cd65a",
   "metadata": {},
   "outputs": [],
   "source": [
    "df[\"month_added\"] = df[\"date_added\"].dt.month\n"
   ]
  },
  {
   "cell_type": "code",
   "execution_count": 39,
   "id": "726e3e05-61d9-4f63-afda-2cd31375c0c5",
   "metadata": {},
   "outputs": [
    {
     "data": {
      "text/html": [
       "<div>\n",
       "<style scoped>\n",
       "    .dataframe tbody tr th:only-of-type {\n",
       "        vertical-align: middle;\n",
       "    }\n",
       "\n",
       "    .dataframe tbody tr th {\n",
       "        vertical-align: top;\n",
       "    }\n",
       "\n",
       "    .dataframe thead th {\n",
       "        text-align: right;\n",
       "    }\n",
       "</style>\n",
       "<table border=\"1\" class=\"dataframe\">\n",
       "  <thead>\n",
       "    <tr style=\"text-align: right;\">\n",
       "      <th></th>\n",
       "      <th>show_id</th>\n",
       "      <th>type</th>\n",
       "      <th>title</th>\n",
       "      <th>director</th>\n",
       "      <th>cast</th>\n",
       "      <th>country</th>\n",
       "      <th>date_added</th>\n",
       "      <th>release_year</th>\n",
       "      <th>rating</th>\n",
       "      <th>duration</th>\n",
       "      <th>listed_in</th>\n",
       "      <th>description</th>\n",
       "      <th>year_added</th>\n",
       "      <th>month_added</th>\n",
       "    </tr>\n",
       "  </thead>\n",
       "  <tbody>\n",
       "    <tr>\n",
       "      <th>0</th>\n",
       "      <td>s1</td>\n",
       "      <td>Movie</td>\n",
       "      <td>Dick Johnson Is Dead</td>\n",
       "      <td>Kirsten Johnson</td>\n",
       "      <td>Not Available</td>\n",
       "      <td>United States</td>\n",
       "      <td>2021-09-25</td>\n",
       "      <td>2020</td>\n",
       "      <td>PG-13</td>\n",
       "      <td>90 min</td>\n",
       "      <td>Documentaries</td>\n",
       "      <td>As her father nears the end of his life, filmm...</td>\n",
       "      <td>2021.0</td>\n",
       "      <td>9.0</td>\n",
       "    </tr>\n",
       "    <tr>\n",
       "      <th>1</th>\n",
       "      <td>s2</td>\n",
       "      <td>TV Show</td>\n",
       "      <td>Blood &amp; Water</td>\n",
       "      <td>Unknown</td>\n",
       "      <td>Ama Qamata, Khosi Ngema, Gail Mabalane, Thaban...</td>\n",
       "      <td>South Africa</td>\n",
       "      <td>2021-09-24</td>\n",
       "      <td>2021</td>\n",
       "      <td>TV-MA</td>\n",
       "      <td>2 Seasons</td>\n",
       "      <td>International TV Shows, TV Dramas, TV Mysteries</td>\n",
       "      <td>After crossing paths at a party, a Cape Town t...</td>\n",
       "      <td>2021.0</td>\n",
       "      <td>9.0</td>\n",
       "    </tr>\n",
       "    <tr>\n",
       "      <th>2</th>\n",
       "      <td>s3</td>\n",
       "      <td>TV Show</td>\n",
       "      <td>Ganglands</td>\n",
       "      <td>Julien Leclercq</td>\n",
       "      <td>Sami Bouajila, Tracy Gotoas, Samuel Jouy, Nabi...</td>\n",
       "      <td>Unknown</td>\n",
       "      <td>2021-09-24</td>\n",
       "      <td>2021</td>\n",
       "      <td>TV-MA</td>\n",
       "      <td>1 Season</td>\n",
       "      <td>Crime TV Shows, International TV Shows, TV Act...</td>\n",
       "      <td>To protect his family from a powerful drug lor...</td>\n",
       "      <td>2021.0</td>\n",
       "      <td>9.0</td>\n",
       "    </tr>\n",
       "    <tr>\n",
       "      <th>3</th>\n",
       "      <td>s4</td>\n",
       "      <td>TV Show</td>\n",
       "      <td>Jailbirds New Orleans</td>\n",
       "      <td>Unknown</td>\n",
       "      <td>Not Available</td>\n",
       "      <td>Unknown</td>\n",
       "      <td>2021-09-24</td>\n",
       "      <td>2021</td>\n",
       "      <td>TV-MA</td>\n",
       "      <td>1 Season</td>\n",
       "      <td>Docuseries, Reality TV</td>\n",
       "      <td>Feuds, flirtations and toilet talk go down amo...</td>\n",
       "      <td>2021.0</td>\n",
       "      <td>9.0</td>\n",
       "    </tr>\n",
       "  </tbody>\n",
       "</table>\n",
       "</div>"
      ],
      "text/plain": [
       "  show_id     type                  title         director  \\\n",
       "0      s1    Movie   Dick Johnson Is Dead  Kirsten Johnson   \n",
       "1      s2  TV Show          Blood & Water          Unknown   \n",
       "2      s3  TV Show              Ganglands  Julien Leclercq   \n",
       "3      s4  TV Show  Jailbirds New Orleans          Unknown   \n",
       "\n",
       "                                                cast        country  \\\n",
       "0                                      Not Available  United States   \n",
       "1  Ama Qamata, Khosi Ngema, Gail Mabalane, Thaban...   South Africa   \n",
       "2  Sami Bouajila, Tracy Gotoas, Samuel Jouy, Nabi...        Unknown   \n",
       "3                                      Not Available        Unknown   \n",
       "\n",
       "  date_added  release_year rating   duration  \\\n",
       "0 2021-09-25          2020  PG-13     90 min   \n",
       "1 2021-09-24          2021  TV-MA  2 Seasons   \n",
       "2 2021-09-24          2021  TV-MA   1 Season   \n",
       "3 2021-09-24          2021  TV-MA   1 Season   \n",
       "\n",
       "                                           listed_in  \\\n",
       "0                                      Documentaries   \n",
       "1    International TV Shows, TV Dramas, TV Mysteries   \n",
       "2  Crime TV Shows, International TV Shows, TV Act...   \n",
       "3                             Docuseries, Reality TV   \n",
       "\n",
       "                                         description  year_added  month_added  \n",
       "0  As her father nears the end of his life, filmm...      2021.0          9.0  \n",
       "1  After crossing paths at a party, a Cape Town t...      2021.0          9.0  \n",
       "2  To protect his family from a powerful drug lor...      2021.0          9.0  \n",
       "3  Feuds, flirtations and toilet talk go down amo...      2021.0          9.0  "
      ]
     },
     "execution_count": 39,
     "metadata": {},
     "output_type": "execute_result"
    }
   ],
   "source": [
    "df.head(4)"
   ]
  },
  {
   "cell_type": "markdown",
   "id": "4fac678c-c9ba-4a47-8143-cf489930df61",
   "metadata": {},
   "source": [
    "## 5) Descriptive Analysis"
   ]
  },
  {
   "cell_type": "markdown",
   "id": "67c903ee-6192-4619-b4f6-b456ebca9fdd",
   "metadata": {},
   "source": [
    "#### Goal: Understand dataset with simple stats"
   ]
  },
  {
   "cell_type": "markdown",
   "id": "a788c3fd-76ee-4266-8305-6f8c9d7d6e3d",
   "metadata": {},
   "source": [
    "### Total count of Movies and TV Shows"
   ]
  },
  {
   "cell_type": "code",
   "execution_count": 40,
   "id": "e4bf824a-346e-4a6f-a763-70b2cbd5a427",
   "metadata": {},
   "outputs": [
    {
     "data": {
      "text/plain": [
       "type\n",
       "Movie      6114\n",
       "TV Show    2671\n",
       "Name: count, dtype: int64"
      ]
     },
     "execution_count": 40,
     "metadata": {},
     "output_type": "execute_result"
    }
   ],
   "source": [
    "df[\"type\"].value_counts()"
   ]
  },
  {
   "cell_type": "markdown",
   "id": "70c4c142-0591-4cf9-bc02-e282cb22cd19",
   "metadata": {},
   "source": [
    "### Distribution of `release_year`"
   ]
  },
  {
   "cell_type": "code",
   "execution_count": 42,
   "id": "ce40ef97-a722-4c97-a8ab-74f6363da34e",
   "metadata": {},
   "outputs": [
    {
     "data": {
      "image/png": "[encoded data removed]",
      "text/plain": [
       "<Figure size 1200x600 with 1 Axes>"
      ]
     },
     "metadata": {},
     "output_type": "display_data"
    }
   ],
   "source": [
    "plt.figure(figsize=(12,6))\n",
    "sns.histplot(df[\"release_year\"], bins=40, kde=False, color=\"orange\")\n",
    "plt.title(\"Distribution of Release Years of Netflix Content\")\n",
    "plt.xlabel(\"Release Year\")\n",
    "plt.ylabel(\"Number of Titles\")\n",
    "plt.show()"
   ]
  },
  {
   "cell_type": "markdown",
   "id": "92adf584-382e-4171-aee7-97921e05988b",
   "metadata": {},
   "source": [
    "### Top 10 countries producing most titles"
   ]
  },
  {
   "cell_type": "code",
   "execution_count": 43,
   "id": "77cbd41d-05a3-4850-a841-900004a300f5",
   "metadata": {},
   "outputs": [
    {
     "name": "stdout",
     "output_type": "stream",
     "text": [
      "country\n",
      "United States     2808\n",
      "India              970\n",
      "Unknown            829\n",
      "United Kingdom     419\n",
      "Japan              245\n",
      "South Korea        199\n",
      "Canada             181\n",
      "Spain              145\n",
      "France             124\n",
      "Mexico             108\n",
      "Name: count, dtype: int64\n"
     ]
    }
   ],
   "source": [
    "top_countries = df[\"country\"].value_counts().head(10)\n",
    "print(top_countries)\n"
   ]
  },
  {
   "cell_type": "markdown",
   "id": "57336662-2cd5-4487-bc01-742a315c13da",
   "metadata": {},
   "source": [
    "### Top 10 genres/categories"
   ]
  },
  {
   "cell_type": "code",
   "execution_count": 44,
   "id": "e3976825-12db-416a-9a86-b988cd40810d",
   "metadata": {},
   "outputs": [],
   "source": [
    "genres = df[\"listed_in\"].str.split(\",\").explode().str.strip()\n"
   ]
  },
  {
   "cell_type": "code",
   "execution_count": 45,
   "id": "5c1ffa73-c99b-4131-9d93-e8d4587bee34",
   "metadata": {},
   "outputs": [
    {
     "name": "stdout",
     "output_type": "stream",
     "text": [
      "listed_in\n",
      "International Movies        2745\n",
      "Dramas                      2420\n",
      "Comedies                    1674\n",
      "International TV Shows      1346\n",
      "Documentaries                869\n",
      "Action & Adventure           857\n",
      "TV Dramas                    759\n",
      "Independent Movies           753\n",
      "Children & Family Movies     641\n",
      "Romantic Movies              615\n",
      "Name: count, dtype: int64\n"
     ]
    }
   ],
   "source": [
    "top_genres = genres.value_counts().head(10)\n",
    "print(top_genres)"
   ]
  },
  {
   "cell_type": "markdown",
   "id": "843df1c6-e3cb-4e62-ab68-293bc5edb401",
   "metadata": {},
   "source": [
    "### Bar chart - content type (Movie vs TV Show)"
   ]
  },
  {
   "cell_type": "code",
   "execution_count": 46,
   "id": "91457842-0cca-45be-b61f-c940f7673727",
   "metadata": {},
   "outputs": [
    {
     "data": {
      "text/plain": [
       "<Axes: xlabel='type'>"
      ]
     },
     "execution_count": 46,
     "metadata": {},
     "output_type": "execute_result"
    },
    {
     "data": {
      "image/png": "[encoded data removed]",
      "text/plain": [
       "<Figure size 640x480 with 1 Axes>"
      ]
     },
     "metadata": {},
     "output_type": "display_data"
    }
   ],
   "source": [
    "df.type.value_counts().plot(kind=\"bar\")"
   ]
  },
  {
   "cell_type": "markdown",
   "id": "d3e2eaf9-c058-438b-98af-1e48a53d03b6",
   "metadata": {},
   "source": [
    "### Line chart - content trend over years\n"
   ]
  },
  {
   "cell_type": "code",
   "execution_count": 47,
   "id": "760c9a76-1299-456f-b8cf-c7812b2803b9",
   "metadata": {},
   "outputs": [
    {
     "data": {
      "text/plain": [
       "year_added\n",
       "2008.0       2\n",
       "2009.0       2\n",
       "2010.0       1\n",
       "2011.0      13\n",
       "2012.0       3\n",
       "2013.0      10\n",
       "2014.0      23\n",
       "2015.0      73\n",
       "2016.0     415\n",
       "2017.0    1158\n",
       "2018.0    1623\n",
       "2019.0    1994\n",
       "2020.0    1874\n",
       "2021.0    1496\n",
       "Name: count, dtype: int64"
      ]
     },
     "execution_count": 47,
     "metadata": {},
     "output_type": "execute_result"
    }
   ],
   "source": [
    "# Count titles added per year\n",
    "trend = df[\"year_added\"].value_counts().sort_index()\n",
    "trend"
   ]
  },
  {
   "cell_type": "code",
   "execution_count": 48,
   "id": "02348da1-59fd-4f9b-b6ea-18b875bbf954",
   "metadata": {},
   "outputs": [
    {
     "data": {
      "image/png": "[encoded data removed]",
      "text/plain": [
       "<Figure size 1200x600 with 1 Axes>"
      ]
     },
     "metadata": {},
     "output_type": "display_data"
    }
   ],
   "source": [
    "# Line chart\n",
    "plt.figure(figsize=(12,6))\n",
    "plt.plot(trend.index, trend.values, marker=\"o\", color=\"crimson\")\n",
    "plt.title(\"Netflix Content Trend Over Years\")\n",
    "plt.xlabel(\"Year Added\")\n",
    "plt.ylabel(\"Number of Titles Added\")\n",
    "plt.grid(True)\n",
    "plt.show()"
   ]
  },
  {
   "cell_type": "markdown",
   "id": "a7d95665-db26-4b74-908a-f2acc8e1e2e6",
   "metadata": {},
   "source": [
    "### Horizontal bar chart - top countries"
   ]
  },
  {
   "cell_type": "code",
   "execution_count": 49,
   "id": "4720500f-9917-4aa0-a6eb-82ba79d1fa2f",
   "metadata": {},
   "outputs": [
    {
     "data": {
      "text/plain": [
       "country\n",
       "United States     2808\n",
       "India              970\n",
       "Unknown            829\n",
       "United Kingdom     419\n",
       "Japan              245\n",
       "South Korea        199\n",
       "Canada             181\n",
       "Spain              145\n",
       "France             124\n",
       "Mexico             108\n",
       "Name: count, dtype: int64"
      ]
     },
     "execution_count": 49,
     "metadata": {},
     "output_type": "execute_result"
    }
   ],
   "source": [
    "top_countries = df[\"country\"].value_counts().head(10)\n",
    "top_countries"
   ]
  },
  {
   "cell_type": "code",
   "execution_count": 50,
   "id": "422d05a4-c812-4b3b-a775-6614c1cae04c",
   "metadata": {},
   "outputs": [
    {
     "data": {
      "image/png": "[encoded data removed]",
      "text/plain": [
       "<Figure size 1000x600 with 1 Axes>"
      ]
     },
     "metadata": {},
     "output_type": "display_data"
    }
   ],
   "source": [
    "# horizontal bar chart for top_coutries\n",
    "plt.figure(figsize=(10,6))\n",
    "sns.barplot(x=top_countries.values, y=top_countries.index)\n",
    "plt.title(\"Top 10 Countries Producing Most Titles on Netflix\")\n",
    "plt.xlabel(\"Number of Titles\")\n",
    "plt.ylabel(\"Country\")\n",
    "plt.show()"
   ]
  },
  {
   "cell_type": "markdown",
   "id": "eadd2ef8-46b9-4f37-8e0b-e2fe59219679",
   "metadata": {},
   "source": [
    "## 6) Deep-Dive Analysis"
   ]
  },
  {
   "cell_type": "markdown",
   "id": "6251be81-2337-4c9c-b402-00874868d7cc",
   "metadata": {},
   "source": [
    "#### Goal: Extract business-like insights"
   ]
  },
  {
   "cell_type": "markdown",
   "id": "eafae4a1-569d-4382-9d2a-d2f4b79cf9db",
   "metadata": {},
   "source": [
    "### Most common ratings"
   ]
  },
  {
   "cell_type": "code",
   "execution_count": 51,
   "id": "685dae80-1cff-461b-8af0-7edf47543246",
   "metadata": {},
   "outputs": [
    {
     "data": {
      "text/plain": [
       "rating\n",
       "TV-MA    3199\n",
       "TV-14    2156\n",
       "TV-PG     863\n",
       "R         796\n",
       "PG-13     486\n",
       "TV-Y7     334\n",
       "TV-Y      307\n",
       "PG        287\n",
       "TV-G      220\n",
       "NR         80\n",
       "Name: count, dtype: int64"
      ]
     },
     "execution_count": 51,
     "metadata": {},
     "output_type": "execute_result"
    }
   ],
   "source": [
    "common_ratings = df[\"rating\"].value_counts().head(10)\n",
    "common_ratings"
   ]
  },
  {
   "cell_type": "markdown",
   "id": "db4027d5-0f99-4480-8927-8c86a8d1f423",
   "metadata": {},
   "source": [
    "- Most common ratings are TV-MA, TV-14, TV-PG "
   ]
  },
  {
   "cell_type": "markdown",
   "id": "f7cd5862-b5c6-4607-b2bd-f68fb33d733c",
   "metadata": {},
   "source": [
    "### visualization for most common ratings"
   ]
  },
  {
   "cell_type": "code",
   "execution_count": 52,
   "id": "e992d567-9dee-4cfb-916d-967ca5b0dfa9",
   "metadata": {},
   "outputs": [
    {
     "data": {
      "image/png": "[encoded data removed]",
      "text/plain": [
       "<Figure size 1000x600 with 1 Axes>"
      ]
     },
     "metadata": {},
     "output_type": "display_data"
    }
   ],
   "source": [
    "# Plot\n",
    "plt.figure(figsize=(10,6))\n",
    "sns.barplot(x=common_ratings.values, y=common_ratings.index)\n",
    "\n",
    "plt.title(\"Most Common Ratings on Netflix\", fontsize=16, fontweight='bold')\n",
    "plt.xlabel(\"Count\", fontsize=12)\n",
    "plt.ylabel(\"Rating\", fontsize=12)\n",
    "plt.show()"
   ]
  },
  {
   "cell_type": "markdown",
   "id": "aa362f6a-ecea-49f9-ba98-45875aa5f406",
   "metadata": {},
   "source": [
    "### Average content release per year (trend analysis)"
   ]
  },
  {
   "cell_type": "code",
   "execution_count": 53,
   "id": "60f321fa-a893-44b8-a51e-61b1e0b81025",
   "metadata": {},
   "outputs": [
    {
     "data": {
      "text/plain": [
       "release_year\n",
       "1925       1\n",
       "1942       2\n",
       "1943       3\n",
       "1944       3\n",
       "1945       4\n",
       "        ... \n",
       "2017    1029\n",
       "2018    1145\n",
       "2019    1026\n",
       "2020     952\n",
       "2021     592\n",
       "Name: count, Length: 74, dtype: int64"
      ]
     },
     "execution_count": 53,
     "metadata": {},
     "output_type": "execute_result"
    }
   ],
   "source": [
    "# Count titles per year\n",
    "release_trend = df[\"release_year\"].value_counts().sort_index()\n",
    "release_trend"
   ]
  },
  {
   "cell_type": "code",
   "execution_count": 54,
   "id": "b5e1ec72-fbc1-4843-81cd-b87252d525a1",
   "metadata": {},
   "outputs": [
    {
     "name": "stdout",
     "output_type": "stream",
     "text": [
      "Average content released per year: 118.71621621621621\n"
     ]
    }
   ],
   "source": [
    "# Average content release per year\n",
    "avg_per_year = release_trend.mean()\n",
    "print(\"Average content released per year:\", avg_per_year)"
   ]
  },
  {
   "cell_type": "markdown",
   "id": "085abf03-e347-493b-9776-cc39368207f5",
   "metadata": {},
   "source": [
    "### Countries that produce more TV Shows than Movies"
   ]
  },
  {
   "cell_type": "code",
   "execution_count": 55,
   "id": "d47dac5f-d004-437e-b971-cad296be9c76",
   "metadata": {},
   "outputs": [
    {
     "data": {
      "text/html": [
       "<div>\n",
       "<style scoped>\n",
       "    .dataframe tbody tr th:only-of-type {\n",
       "        vertical-align: middle;\n",
       "    }\n",
       "\n",
       "    .dataframe tbody tr th {\n",
       "        vertical-align: top;\n",
       "    }\n",
       "\n",
       "    .dataframe thead th {\n",
       "        text-align: right;\n",
       "    }\n",
       "</style>\n",
       "<table border=\"1\" class=\"dataframe\">\n",
       "  <thead>\n",
       "    <tr style=\"text-align: right;\">\n",
       "      <th>type</th>\n",
       "      <th>Movie</th>\n",
       "      <th>TV Show</th>\n",
       "    </tr>\n",
       "    <tr>\n",
       "      <th>country</th>\n",
       "      <th></th>\n",
       "      <th></th>\n",
       "    </tr>\n",
       "  </thead>\n",
       "  <tbody>\n",
       "    <tr>\n",
       "      <th>, France, Algeria</th>\n",
       "      <td>1</td>\n",
       "      <td>0</td>\n",
       "    </tr>\n",
       "    <tr>\n",
       "      <th>, South Korea</th>\n",
       "      <td>0</td>\n",
       "      <td>1</td>\n",
       "    </tr>\n",
       "    <tr>\n",
       "      <th>Argentina</th>\n",
       "      <td>38</td>\n",
       "      <td>18</td>\n",
       "    </tr>\n",
       "    <tr>\n",
       "      <th>Argentina, Brazil, France, Poland, Germany, Denmark</th>\n",
       "      <td>1</td>\n",
       "      <td>0</td>\n",
       "    </tr>\n",
       "    <tr>\n",
       "      <th>Argentina, Chile</th>\n",
       "      <td>2</td>\n",
       "      <td>0</td>\n",
       "    </tr>\n",
       "    <tr>\n",
       "      <th>...</th>\n",
       "      <td>...</td>\n",
       "      <td>...</td>\n",
       "    </tr>\n",
       "    <tr>\n",
       "      <th>Venezuela</th>\n",
       "      <td>1</td>\n",
       "      <td>0</td>\n",
       "    </tr>\n",
       "    <tr>\n",
       "      <th>Venezuela, Colombia</th>\n",
       "      <td>1</td>\n",
       "      <td>0</td>\n",
       "    </tr>\n",
       "    <tr>\n",
       "      <th>Vietnam</th>\n",
       "      <td>7</td>\n",
       "      <td>0</td>\n",
       "    </tr>\n",
       "    <tr>\n",
       "      <th>West Germany</th>\n",
       "      <td>1</td>\n",
       "      <td>0</td>\n",
       "    </tr>\n",
       "    <tr>\n",
       "      <th>Zimbabwe</th>\n",
       "      <td>1</td>\n",
       "      <td>0</td>\n",
       "    </tr>\n",
       "  </tbody>\n",
       "</table>\n",
       "<p>749 rows × 2 columns</p>\n",
       "</div>"
      ],
      "text/plain": [
       "type                                                Movie  TV Show\n",
       "country                                                           \n",
       ", France, Algeria                                       1        0\n",
       ", South Korea                                           0        1\n",
       "Argentina                                              38       18\n",
       "Argentina, Brazil, France, Poland, Germany, Den...      1        0\n",
       "Argentina, Chile                                        2        0\n",
       "...                                                   ...      ...\n",
       "Venezuela                                               1        0\n",
       "Venezuela, Colombia                                     1        0\n",
       "Vietnam                                                 7        0\n",
       "West Germany                                            1        0\n",
       "Zimbabwe                                                1        0\n",
       "\n",
       "[749 rows x 2 columns]"
      ]
     },
     "execution_count": 55,
     "metadata": {},
     "output_type": "execute_result"
    }
   ],
   "source": [
    "# Group by country and type\n",
    "country_type = df.groupby([\"country\", \"type\"]).size().unstack(fill_value=0)\n",
    "country_type"
   ]
  },
  {
   "cell_type": "code",
   "execution_count": 56,
   "id": "01f47ab1-f256-447c-a8a7-9f2a68cee89b",
   "metadata": {},
   "outputs": [
    {
     "name": "stdout",
     "output_type": "stream",
     "text": [
      "type                                 Movie  TV Show\n",
      "country                                            \n",
      "United Kingdom                         206      213\n",
      "Japan                                   76      169\n",
      "South Korea                             41      158\n",
      "Taiwan                                  13       68\n",
      "Australia                               39       48\n",
      "...                                    ...      ...\n",
      "United States, Mexico, Spain, Malta      0        1\n",
      "United States, New Zealand, Japan        0        1\n",
      "United States, Poland                    0        1\n",
      "United States, Singapore                 0        1\n",
      "Uruguay, Germany                         0        1\n",
      "\n",
      "[117 rows x 2 columns]\n"
     ]
    }
   ],
   "source": [
    "# Filter countries where TV Shows > Movies\n",
    "tv_more_than_movies = country_type[country_type[\"TV Show\"] > country_type[\"Movie\"]]\n",
    "print(tv_more_than_movies.sort_values(\"TV Show\", ascending=False))\n"
   ]
  },
  {
   "cell_type": "markdown",
   "id": "6a2d877b-e04a-4e5a-968a-5b01f13c40bc",
   "metadata": {},
   "source": [
    "### Directors with highest number of movies"
   ]
  },
  {
   "cell_type": "code",
   "execution_count": 57,
   "id": "e41a02e2-d518-4a75-9f90-f49c838f0dfc",
   "metadata": {},
   "outputs": [
    {
     "name": "stdout",
     "output_type": "stream",
     "text": [
      "director\n",
      "Rajiv Chilaka             19\n",
      "Raúl Campos, Jan Suter    18\n",
      "Suhas Kadav               16\n",
      "Marcus Raboy              15\n",
      "Jay Karas                 14\n",
      "Cathy Garcia-Molina       13\n",
      "Youssef Chahine           12\n",
      "Martin Scorsese           12\n",
      "Jay Chapman               12\n",
      "Steven Spielberg          11\n",
      "Name: count, dtype: int64\n"
     ]
    }
   ],
   "source": [
    "# Drop null values in director column\n",
    "df_directors = df.dropna(subset=[\"director\"])\n",
    "\n",
    "# Remove \"Unknown\"\n",
    "df_directors = df_directors[df_directors[\"director\"].str.strip().str.lower() != \"unknown\"]\n",
    "\n",
    "# Filter only Movies\n",
    "movie_directors = df_directors[df_directors[\"type\"] == \"Movie\"]\n",
    "\n",
    "# Count top directors\n",
    "top_directors = movie_directors[\"director\"].value_counts().head(10)\n",
    "\n",
    "print(top_directors)\n"
   ]
  },
  {
   "cell_type": "markdown",
   "id": "e44d8c40-05dc-4be1-95a2-4b5123d2b5a3",
   "metadata": {},
   "source": [
    "### Actor/actress with most appearances"
   ]
  },
  {
   "cell_type": "code",
   "execution_count": 58,
   "id": "97eafc89-ece4-46e1-aab9-f2f28e7ab87f",
   "metadata": {},
   "outputs": [],
   "source": [
    "# Drop nulls and remove \"Not Available\"\n",
    "df_cast = df.dropna(subset=[\"cast\"])\n",
    "df_cast = df_cast[df_cast[\"cast\"].str.strip().str.lower() != \"not available\"]"
   ]
  },
  {
   "cell_type": "code",
   "execution_count": 59,
   "id": "5eacafb9-a6f8-4c01-a5bb-337748ed4301",
   "metadata": {},
   "outputs": [],
   "source": [
    "# Split comma-separated names and explode into rows\n",
    "actors = df_cast.assign(actor=df_cast[\"cast\"].str.split(\", \")).explode(\"actor\")"
   ]
  },
  {
   "cell_type": "code",
   "execution_count": 60,
   "id": "8b9b13aa-63ea-4967-98bb-bfd6819245a1",
   "metadata": {},
   "outputs": [
    {
     "data": {
      "text/plain": [
       "actor\n",
       "Anupam Kher         43\n",
       "Shah Rukh Khan      35\n",
       "Julie Tejwani       33\n",
       "Takahiro Sakurai    32\n",
       "Naseeruddin Shah    32\n",
       "Rupa Bhimani        31\n",
       "Om Puri             30\n",
       "Akshay Kumar        30\n",
       "Yuki Kaji           29\n",
       "Paresh Rawal        28\n",
       "Name: count, dtype: int64"
      ]
     },
     "execution_count": 60,
     "metadata": {},
     "output_type": "execute_result"
    }
   ],
   "source": [
    "# Count appearances\n",
    "top_actors = actors[\"actor\"].value_counts().head(10)\n",
    "top_actors"
   ]
  },
  {
   "cell_type": "code",
   "execution_count": 61,
   "id": "7048f04e-495a-44e8-9bf8-14ed13243786",
   "metadata": {},
   "outputs": [
    {
     "data": {
      "image/png": "[encoded data removed]",
      "text/plain": [
       "<Figure size 1000x600 with 2 Axes>"
      ]
     },
     "metadata": {},
     "output_type": "display_data"
    }
   ],
   "source": [
    "# Country vs Type pivot\n",
    "country_type_matrix = pd.crosstab(df[\"country\"], df[\"type\"])\n",
    "\n",
    "# Top 15 countries for better visualization\n",
    "top_countries = country_type_matrix.sort_values(\"Movie\", ascending=False).head(15)\n",
    "\n",
    "# Heatmap\n",
    "plt.figure(figsize=(10,6))\n",
    "sns.heatmap(top_countries, annot=True, fmt=\"d\", cmap=\"YlGnBu\")\n",
    "plt.title(\"Heatmap: Country vs Content Type (Top 15 Countries)\")\n",
    "plt.xlabel(\"Content Type\")\n",
    "plt.ylabel(\"Country\")\n",
    "plt.show()"
   ]
  },
  {
   "cell_type": "markdown",
   "id": "c3888efe-08e4-4bc9-9922-e082f18ef622",
   "metadata": {},
   "source": [
    "## 7) Business Insights Summary"
   ]
  },
  {
   "cell_type": "markdown",
   "id": "5fbadf82-d54f-4263-b8f9-63e1c176f8a0",
   "metadata": {},
   "source": [
    "#### Goal: Translating numbers into insights"
   ]
  },
  {
   "cell_type": "markdown",
   "id": "a79468bc-87e3-44d9-9bf1-4fce4b7642d5",
   "metadata": {},
   "source": [
    "1) Content Mix\n",
    "- Movies are still the majority on Netflix, but TV Shows have been growing steadily since 2015.\n",
    "- This suggests Netflix is pushing more towards series to increase long-term engagement."
   ]
  },
  {
   "cell_type": "markdown",
   "id": "497d3494-80c6-465e-a6f0-b286d14f67bd",
   "metadata": {},
   "source": [
    "2) Geography\n",
    "- The United States dominates content production, followed by India which has a strong focus on movies.\n",
    "- Emerging contributors include the UK, Japan, and South Korea, showing global expansion."
   ]
  },
  {
   "cell_type": "markdown",
   "id": "bdc51dd8-9faa-4bd2-8494-bd32dd6d9135",
   "metadata": {},
   "source": [
    "3) Genres & Categories\n",
    "- The most common categories are International Movies, Dramas, and Comedies.\n",
    "- This highlights Netflix’s strategy of catering to a global audience with diverse tastes."
   ]
  },
  {
   "cell_type": "markdown",
   "id": "b7d133cb-c84c-4664-b09f-2bd67ab61432",
   "metadata": {},
   "source": [
    "4) Ratings\n",
    "- TV-MA is the most common rating, meaning Netflix’s content is heavily skewed towards mature audiences.\n",
    "- Family/kids categories exist but are much smaller, indicating target focus is 18+ users."
   ]
  },
  {
   "cell_type": "markdown",
   "id": "39a0e2fa-b8af-4de9-bd63-75a571526b77",
   "metadata": {},
   "source": [
    "5) Trends Over Time\n",
    "- The volume of releases spiked after 2015, aligning with Netflix’s global expansion.\n",
    "- Average content added per year has been increasing, though growth is stabilizing in recent years."
   ]
  },
  {
   "cell_type": "markdown",
   "id": "695b2b7a-4366-42b4-ab21-f5dcc0386839",
   "metadata": {},
   "source": [
    "6) Directors & Actors\n",
    "\n",
    "- A handful of directors like Rajiv Chilaka, Raúl Campos, and Steven Spielberg appear multiple times, showing partnerships with frequent contributors.\n",
    "- Actors like Anupam Kher and Shah Rukh Khan (India) and popular Hollywood names have repeated appearances, highlighting Netflix’s mix of Bollywood & Hollywood."
   ]
  },
  {
   "cell_type": "markdown",
   "id": "46d48020-0bcc-4678-84ad-8a5d24a1aa79",
   "metadata": {},
   "source": [
    "7) Country vs Content Type\n",
    "- Countries like India produce more Movies than TV Shows, while the US balances both Movies & TV Shows.\n",
    "- This aligns with cultural preferences — Indian cinema is movie-heavy, whereas US has a strong series culture."
   ]
  }
 ],
 "metadata": {
  "kernelspec": {
   "display_name": "Python 3 (ipykernel)",
   "language": "python",
   "name": "python3"
  },
  "language_info": {
   "codemirror_mode": {
    "name": "ipython",
    "version": 3
   },
   "file_extension": ".py",
   "mimetype": "text/x-python",
   "name": "python",
   "nbconvert_exporter": "python",
   "pygments_lexer": "ipython3",
   "version": "3.13.1"
  }
 },
 "nbformat": 4,
 "nbformat_minor": 5
}
